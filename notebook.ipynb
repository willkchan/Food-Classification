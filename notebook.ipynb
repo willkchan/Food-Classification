{
 "cells": [
  {
   "cell_type": "markdown",
   "metadata": {
    "collapsed": true,
    "pycharm": {
     "name": "#%% md\n"
    }
   },
   "source": [
    "# Practice using pytorch to classify food image"
   ]
  },
  {
   "cell_type": "code",
   "execution_count": 20,
   "outputs": [],
   "source": [
    "# statement\n",
    "\n",
    "import torch\n",
    "import torch.nn as nn\n",
    "import torchvision\n",
    "from IPython.core.display import display\n",
    "from sklearn.model_selection import train_test_split\n",
    "from torch.autograd import Variable\n",
    "import numpy as np\n",
    "import pandas as pd\n",
    "import matplotlib.pyplot as plt\n",
    "import torchvision.transforms as transforms\n",
    "import torchvision.datasets as datasets\n",
    "import torch\n",
    "import os\n"
   ],
   "metadata": {
    "collapsed": false,
    "pycharm": {
     "name": "#%%\n"
    }
   }
  },
  {
   "cell_type": "code",
   "execution_count": 21,
   "outputs": [
    {
     "name": "stdout",
     "output_type": "stream",
     "text": [
      "['miso_soup', 'foie_gras', 'dumplings', 'sushi', 'spring_rolls', 'gnocchi', 'chicken_quesadilla', 'beef_tartare', 'grilled_salmon', 'hot_and_sour_soup', 'french_toast', 'spaghetti_bolognese', 'escargots', 'macaroni_and_cheese', 'grilled_cheese_sandwich', 'cup_cakes', 'macarons', 'ravioli', 'edamame', 'apple_pie', 'pad_thai', 'chicken_curry', 'red_velvet_cake', 'mussels', 'omelette', 'tiramisu', 'cheese_plate', 'poutine', 'chocolate_mousse', 'caesar_salad', 'carrot_cake', 'french_onion_soup', 'onion_rings', 'bread_pudding', 'paella', 'crab_cakes', 'ramen', 'pork_chop', 'takoyaki', 'steak', 'ice_cream', 'peking_duck', 'ceviche', 'pho', 'scallops', 'shrimp_and_grits', 'lasagna', 'churros', 'clam_chowder', 'eggs_benedict', 'risotto', 'beet_salad', 'lobster_roll_sandwich', 'caprese_salad', 'nachos', 'seaweed_salad', 'club_sandwich', 'greek_salad', 'fish_and_chips', 'pancakes', 'pizza', 'prime_rib', 'strawberry_shortcake', 'spaghetti_carbonara', 'huevos_rancheros', 'samosa', 'chicken_wings', 'creme_brulee', 'guacamole', 'panna_cotta', 'french_fries', 'beignets', 'hot_dog', 'baklava', 'tacos', 'donuts', 'bibimbap', 'hamburger', 'garlic_bread', 'sashimi', 'fried_rice', 'baby_back_ribs', 'tuna_tartare', 'cheesecake', 'fried_calamari', 'oysters', 'hummus', 'pulled_pork_sandwich', 'gyoza', 'waffles', 'bruschetta', 'deviled_eggs', 'lobster_bisque', 'chocolate_cake', 'frozen_yogurt', 'croque_madame', 'breakfast_burrito', 'falafel', 'cannoli', 'beef_carpaccio', 'filet_mignon']\n"
     ]
    },
    {
     "data": {
      "text/plain": "101"
     },
     "execution_count": 21,
     "metadata": {},
     "output_type": "execute_result"
    }
   ],
   "source": [
    "print(os.listdir('data/images'))\n",
    "len(os.listdir('data/images'))"
   ],
   "metadata": {
    "collapsed": false,
    "pycharm": {
     "name": "#%%\n"
    }
   }
  },
  {
   "cell_type": "markdown",
   "source": [
    "From images folder we have over 101 classes of foods to categorize\n"
   ],
   "metadata": {
    "collapsed": false
   }
  },
  {
   "cell_type": "code",
   "execution_count": 47,
   "outputs": [
    {
     "data": {
      "text/plain": "               file_name\n0      apple_pie/1005649\n1      apple_pie/1014775\n2      apple_pie/1026328\n3      apple_pie/1028787\n4      apple_pie/1043283\n...                  ...\n75745     waffles/981485\n75746      waffles/98238\n75747     waffles/982668\n75748     waffles/995085\n75749     waffles/999047\n\n[75750 rows x 1 columns]",
      "text/html": "<div>\n<style scoped>\n    .dataframe tbody tr th:only-of-type {\n        vertical-align: middle;\n    }\n\n    .dataframe tbody tr th {\n        vertical-align: top;\n    }\n\n    .dataframe thead th {\n        text-align: right;\n    }\n</style>\n<table border=\"1\" class=\"dataframe\">\n  <thead>\n    <tr style=\"text-align: right;\">\n      <th></th>\n      <th>file_name</th>\n    </tr>\n  </thead>\n  <tbody>\n    <tr>\n      <th>0</th>\n      <td>apple_pie/1005649</td>\n    </tr>\n    <tr>\n      <th>1</th>\n      <td>apple_pie/1014775</td>\n    </tr>\n    <tr>\n      <th>2</th>\n      <td>apple_pie/1026328</td>\n    </tr>\n    <tr>\n      <th>3</th>\n      <td>apple_pie/1028787</td>\n    </tr>\n    <tr>\n      <th>4</th>\n      <td>apple_pie/1043283</td>\n    </tr>\n    <tr>\n      <th>...</th>\n      <td>...</td>\n    </tr>\n    <tr>\n      <th>75745</th>\n      <td>waffles/981485</td>\n    </tr>\n    <tr>\n      <th>75746</th>\n      <td>waffles/98238</td>\n    </tr>\n    <tr>\n      <th>75747</th>\n      <td>waffles/982668</td>\n    </tr>\n    <tr>\n      <th>75748</th>\n      <td>waffles/995085</td>\n    </tr>\n    <tr>\n      <th>75749</th>\n      <td>waffles/999047</td>\n    </tr>\n  </tbody>\n</table>\n<p>75750 rows × 1 columns</p>\n</div>"
     },
     "metadata": {},
     "output_type": "display_data"
    },
    {
     "data": {
      "text/plain": "               file_name\n0      apple_pie/1011328\n1       apple_pie/101251\n2      apple_pie/1034399\n3       apple_pie/103801\n4      apple_pie/1038694\n...                  ...\n25245     waffles/942009\n25246     waffles/954028\n25247      waffles/96181\n25248      waffles/97015\n25249     waffles/971843\n\n[25250 rows x 1 columns]",
      "text/html": "<div>\n<style scoped>\n    .dataframe tbody tr th:only-of-type {\n        vertical-align: middle;\n    }\n\n    .dataframe tbody tr th {\n        vertical-align: top;\n    }\n\n    .dataframe thead th {\n        text-align: right;\n    }\n</style>\n<table border=\"1\" class=\"dataframe\">\n  <thead>\n    <tr style=\"text-align: right;\">\n      <th></th>\n      <th>file_name</th>\n    </tr>\n  </thead>\n  <tbody>\n    <tr>\n      <th>0</th>\n      <td>apple_pie/1011328</td>\n    </tr>\n    <tr>\n      <th>1</th>\n      <td>apple_pie/101251</td>\n    </tr>\n    <tr>\n      <th>2</th>\n      <td>apple_pie/1034399</td>\n    </tr>\n    <tr>\n      <th>3</th>\n      <td>apple_pie/103801</td>\n    </tr>\n    <tr>\n      <th>4</th>\n      <td>apple_pie/1038694</td>\n    </tr>\n    <tr>\n      <th>...</th>\n      <td>...</td>\n    </tr>\n    <tr>\n      <th>25245</th>\n      <td>waffles/942009</td>\n    </tr>\n    <tr>\n      <th>25246</th>\n      <td>waffles/954028</td>\n    </tr>\n    <tr>\n      <th>25247</th>\n      <td>waffles/96181</td>\n    </tr>\n    <tr>\n      <th>25248</th>\n      <td>waffles/97015</td>\n    </tr>\n    <tr>\n      <th>25249</th>\n      <td>waffles/971843</td>\n    </tr>\n  </tbody>\n</table>\n<p>25250 rows × 1 columns</p>\n</div>"
     },
     "metadata": {},
     "output_type": "display_data"
    }
   ],
   "source": [
    "train_labels = pd.read_csv('data/meta/meta/train.txt', sep='\\n', names=['file_name'])\n",
    "test_labels = pd.read_csv('data/meta/meta/test.txt', sep='\\n', names=['file_name'])\n",
    "\n",
    "display(train_labels)\n",
    "display(test_labels)"
   ],
   "metadata": {
    "collapsed": false,
    "pycharm": {
     "name": "#%%\n"
    }
   }
  },
  {
   "cell_type": "code",
   "execution_count": 48,
   "outputs": [
    {
     "data": {
      "text/plain": "               file_name      idx      label        image  \\\n0      apple_pie/1005649  1005649  apple_pie  1005649.jpg   \n1      apple_pie/1014775  1014775  apple_pie  1014775.jpg   \n2      apple_pie/1026328  1026328  apple_pie  1026328.jpg   \n3      apple_pie/1028787  1028787  apple_pie  1028787.jpg   \n4      apple_pie/1043283  1043283  apple_pie  1043283.jpg   \n...                  ...      ...        ...          ...   \n75745     waffles/981485   981485    waffles   981485.jpg   \n75746      waffles/98238    98238    waffles    98238.jpg   \n75747     waffles/982668   982668    waffles   982668.jpg   \n75748     waffles/995085   995085    waffles   995085.jpg   \n75749     waffles/999047   999047    waffles   999047.jpg   \n\n                                    path  \n0      data/images/apple_pie/1005649.jpg  \n1      data/images/apple_pie/1014775.jpg  \n2      data/images/apple_pie/1026328.jpg  \n3      data/images/apple_pie/1028787.jpg  \n4      data/images/apple_pie/1043283.jpg  \n...                                  ...  \n75745     data/images/waffles/981485.jpg  \n75746      data/images/waffles/98238.jpg  \n75747     data/images/waffles/982668.jpg  \n75748     data/images/waffles/995085.jpg  \n75749     data/images/waffles/999047.jpg  \n\n[75750 rows x 5 columns]",
      "text/html": "<div>\n<style scoped>\n    .dataframe tbody tr th:only-of-type {\n        vertical-align: middle;\n    }\n\n    .dataframe tbody tr th {\n        vertical-align: top;\n    }\n\n    .dataframe thead th {\n        text-align: right;\n    }\n</style>\n<table border=\"1\" class=\"dataframe\">\n  <thead>\n    <tr style=\"text-align: right;\">\n      <th></th>\n      <th>file_name</th>\n      <th>idx</th>\n      <th>label</th>\n      <th>image</th>\n      <th>path</th>\n    </tr>\n  </thead>\n  <tbody>\n    <tr>\n      <th>0</th>\n      <td>apple_pie/1005649</td>\n      <td>1005649</td>\n      <td>apple_pie</td>\n      <td>1005649.jpg</td>\n      <td>data/images/apple_pie/1005649.jpg</td>\n    </tr>\n    <tr>\n      <th>1</th>\n      <td>apple_pie/1014775</td>\n      <td>1014775</td>\n      <td>apple_pie</td>\n      <td>1014775.jpg</td>\n      <td>data/images/apple_pie/1014775.jpg</td>\n    </tr>\n    <tr>\n      <th>2</th>\n      <td>apple_pie/1026328</td>\n      <td>1026328</td>\n      <td>apple_pie</td>\n      <td>1026328.jpg</td>\n      <td>data/images/apple_pie/1026328.jpg</td>\n    </tr>\n    <tr>\n      <th>3</th>\n      <td>apple_pie/1028787</td>\n      <td>1028787</td>\n      <td>apple_pie</td>\n      <td>1028787.jpg</td>\n      <td>data/images/apple_pie/1028787.jpg</td>\n    </tr>\n    <tr>\n      <th>4</th>\n      <td>apple_pie/1043283</td>\n      <td>1043283</td>\n      <td>apple_pie</td>\n      <td>1043283.jpg</td>\n      <td>data/images/apple_pie/1043283.jpg</td>\n    </tr>\n    <tr>\n      <th>...</th>\n      <td>...</td>\n      <td>...</td>\n      <td>...</td>\n      <td>...</td>\n      <td>...</td>\n    </tr>\n    <tr>\n      <th>75745</th>\n      <td>waffles/981485</td>\n      <td>981485</td>\n      <td>waffles</td>\n      <td>981485.jpg</td>\n      <td>data/images/waffles/981485.jpg</td>\n    </tr>\n    <tr>\n      <th>75746</th>\n      <td>waffles/98238</td>\n      <td>98238</td>\n      <td>waffles</td>\n      <td>98238.jpg</td>\n      <td>data/images/waffles/98238.jpg</td>\n    </tr>\n    <tr>\n      <th>75747</th>\n      <td>waffles/982668</td>\n      <td>982668</td>\n      <td>waffles</td>\n      <td>982668.jpg</td>\n      <td>data/images/waffles/982668.jpg</td>\n    </tr>\n    <tr>\n      <th>75748</th>\n      <td>waffles/995085</td>\n      <td>995085</td>\n      <td>waffles</td>\n      <td>995085.jpg</td>\n      <td>data/images/waffles/995085.jpg</td>\n    </tr>\n    <tr>\n      <th>75749</th>\n      <td>waffles/999047</td>\n      <td>999047</td>\n      <td>waffles</td>\n      <td>999047.jpg</td>\n      <td>data/images/waffles/999047.jpg</td>\n    </tr>\n  </tbody>\n</table>\n<p>75750 rows × 5 columns</p>\n</div>"
     },
     "execution_count": 48,
     "metadata": {},
     "output_type": "execute_result"
    }
   ],
   "source": [
    "train_id = train_labels['file_name'].str.split('/').str[1]\n",
    "train_label = train_labels['file_name'].str.split('/').str[0]\n",
    "train_img = train_labels['file_name'].str.split('/').str[1].apply(lambda x: x + '.jpg')\n",
    "train_path = train_labels['file_name'].apply(lambda x: 'data/images/' + x + '.jpg')\n",
    "\n",
    "train_labels.insert(1, 'idx', train_id)\n",
    "train_labels.insert(2, 'label', train_label)\n",
    "train_labels.insert(3, 'image', train_img)\n",
    "train_labels.insert(4, 'path', train_path)\n",
    "train_labels"
   ],
   "metadata": {
    "collapsed": false,
    "pycharm": {
     "name": "#%%\n"
    }
   }
  },
  {
   "cell_type": "code",
   "execution_count": 49,
   "outputs": [
    {
     "data": {
      "text/plain": "               file_name      idx      label        image  \\\n0      apple_pie/1011328  1011328  apple_pie  1011328.jpg   \n1       apple_pie/101251   101251  apple_pie   101251.jpg   \n2      apple_pie/1034399  1034399  apple_pie  1034399.jpg   \n3       apple_pie/103801   103801  apple_pie   103801.jpg   \n4      apple_pie/1038694  1038694  apple_pie  1038694.jpg   \n...                  ...      ...        ...          ...   \n25245     waffles/942009   942009    waffles   942009.jpg   \n25246     waffles/954028   954028    waffles   954028.jpg   \n25247      waffles/96181    96181    waffles    96181.jpg   \n25248      waffles/97015    97015    waffles    97015.jpg   \n25249     waffles/971843   971843    waffles   971843.jpg   \n\n                                    path  \n0      data/images/apple_pie/1011328.jpg  \n1       data/images/apple_pie/101251.jpg  \n2      data/images/apple_pie/1034399.jpg  \n3       data/images/apple_pie/103801.jpg  \n4      data/images/apple_pie/1038694.jpg  \n...                                  ...  \n25245     data/images/waffles/942009.jpg  \n25246     data/images/waffles/954028.jpg  \n25247      data/images/waffles/96181.jpg  \n25248      data/images/waffles/97015.jpg  \n25249     data/images/waffles/971843.jpg  \n\n[25250 rows x 5 columns]",
      "text/html": "<div>\n<style scoped>\n    .dataframe tbody tr th:only-of-type {\n        vertical-align: middle;\n    }\n\n    .dataframe tbody tr th {\n        vertical-align: top;\n    }\n\n    .dataframe thead th {\n        text-align: right;\n    }\n</style>\n<table border=\"1\" class=\"dataframe\">\n  <thead>\n    <tr style=\"text-align: right;\">\n      <th></th>\n      <th>file_name</th>\n      <th>idx</th>\n      <th>label</th>\n      <th>image</th>\n      <th>path</th>\n    </tr>\n  </thead>\n  <tbody>\n    <tr>\n      <th>0</th>\n      <td>apple_pie/1011328</td>\n      <td>1011328</td>\n      <td>apple_pie</td>\n      <td>1011328.jpg</td>\n      <td>data/images/apple_pie/1011328.jpg</td>\n    </tr>\n    <tr>\n      <th>1</th>\n      <td>apple_pie/101251</td>\n      <td>101251</td>\n      <td>apple_pie</td>\n      <td>101251.jpg</td>\n      <td>data/images/apple_pie/101251.jpg</td>\n    </tr>\n    <tr>\n      <th>2</th>\n      <td>apple_pie/1034399</td>\n      <td>1034399</td>\n      <td>apple_pie</td>\n      <td>1034399.jpg</td>\n      <td>data/images/apple_pie/1034399.jpg</td>\n    </tr>\n    <tr>\n      <th>3</th>\n      <td>apple_pie/103801</td>\n      <td>103801</td>\n      <td>apple_pie</td>\n      <td>103801.jpg</td>\n      <td>data/images/apple_pie/103801.jpg</td>\n    </tr>\n    <tr>\n      <th>4</th>\n      <td>apple_pie/1038694</td>\n      <td>1038694</td>\n      <td>apple_pie</td>\n      <td>1038694.jpg</td>\n      <td>data/images/apple_pie/1038694.jpg</td>\n    </tr>\n    <tr>\n      <th>...</th>\n      <td>...</td>\n      <td>...</td>\n      <td>...</td>\n      <td>...</td>\n      <td>...</td>\n    </tr>\n    <tr>\n      <th>25245</th>\n      <td>waffles/942009</td>\n      <td>942009</td>\n      <td>waffles</td>\n      <td>942009.jpg</td>\n      <td>data/images/waffles/942009.jpg</td>\n    </tr>\n    <tr>\n      <th>25246</th>\n      <td>waffles/954028</td>\n      <td>954028</td>\n      <td>waffles</td>\n      <td>954028.jpg</td>\n      <td>data/images/waffles/954028.jpg</td>\n    </tr>\n    <tr>\n      <th>25247</th>\n      <td>waffles/96181</td>\n      <td>96181</td>\n      <td>waffles</td>\n      <td>96181.jpg</td>\n      <td>data/images/waffles/96181.jpg</td>\n    </tr>\n    <tr>\n      <th>25248</th>\n      <td>waffles/97015</td>\n      <td>97015</td>\n      <td>waffles</td>\n      <td>97015.jpg</td>\n      <td>data/images/waffles/97015.jpg</td>\n    </tr>\n    <tr>\n      <th>25249</th>\n      <td>waffles/971843</td>\n      <td>971843</td>\n      <td>waffles</td>\n      <td>971843.jpg</td>\n      <td>data/images/waffles/971843.jpg</td>\n    </tr>\n  </tbody>\n</table>\n<p>25250 rows × 5 columns</p>\n</div>"
     },
     "execution_count": 49,
     "metadata": {},
     "output_type": "execute_result"
    }
   ],
   "source": [
    "test_id = test_labels['file_name'].str.split('/').str[1]\n",
    "test_label = test_labels['file_name'].str.split('/').str[0]\n",
    "test_img = test_labels['file_name'].str.split('/').str[1].apply(lambda x: x + '.jpg')\n",
    "test_path = test_labels['file_name'].apply(lambda x: 'data/images/' + x + '.jpg')\n",
    "\n",
    "test_labels.insert(1, 'idx', test_id)\n",
    "test_labels.insert(2, 'label', test_label)\n",
    "test_labels.insert(3, 'image', test_img)\n",
    "test_labels.insert(4, 'path', test_path)\n",
    "test_labels"
   ],
   "metadata": {
    "collapsed": false,
    "pycharm": {
     "name": "#%%\n"
    }
   }
  },
  {
   "cell_type": "code",
   "execution_count": 58,
   "outputs": [],
   "source": [
    "class Food_Dataset(torch.utils.data.Dataset):\n",
    "    def __init__(self, dataframe):\n",
    "        self.dataframe = dataframe\n",
    "\n",
    "    def __len__(self):\n",
    "        return len(self.dataframe)\n",
    "\n",
    "    def __getitem__(self, idx):\n",
    "        image = self.dataframe['path'].iloc[idx]\n",
    "        label = self.dataframe['label'].iloc[idx]\n",
    "        return image, label"
   ],
   "metadata": {
    "collapsed": false,
    "pycharm": {
     "name": "#%%\n"
    }
   }
  },
  {
   "cell_type": "code",
   "execution_count": 60,
   "outputs": [],
   "source": [
    "training_set = Food_Dataset(train_labels)\n",
    "testing_set = Food_Dataset(test_labels)"
   ],
   "metadata": {
    "collapsed": false,
    "pycharm": {
     "name": "#%%\n"
    }
   }
  },
  {
   "cell_type": "code",
   "execution_count": 61,
   "outputs": [
    {
     "data": {
      "text/plain": "('data/images/apple_pie/1005649.jpg', 'apple_pie')"
     },
     "execution_count": 61,
     "metadata": {},
     "output_type": "execute_result"
    }
   ],
   "source": [
    "# make train and test loaders"
   ],
   "metadata": {
    "collapsed": false,
    "pycharm": {
     "name": "#%%\n"
    }
   }
  },
  {
   "cell_type": "code",
   "execution_count": null,
   "outputs": [],
   "source": [
    "# # Define Transforms\n",
    "# train_transforms = transforms.Compose([\n",
    "#     transforms.ColorJitter(brightness=0.1, contrast=0.1, saturation=0.1),\n",
    "#     transforms.RandomAffine(15),\n",
    "#     transforms.RandomHorizontalFlip(),\n",
    "#     transforms.RandomRotation(15),\n",
    "#     transforms.Resize((224, 224)),\n",
    "#     transforms.ToTensor(),\n",
    "#     transforms.Normalize(mean=[0.485, 0.456, 0.406], std=[0.229, 0.224, 0.225])\n",
    "# ])\n",
    "#\n",
    "# test_transforms = transforms.Compose([\n",
    "#     transforms.Resize((224, 224)),\n",
    "#     transforms.ToTensor(),\n",
    "#     transforms.Normalize(mean=[0.485, 0.456, 0.406], std=[0.229, 0.224, 0.225])\n",
    "# ])\n",
    "#\n",
    "#\n",
    "#\n",
    "#\n"
   ],
   "metadata": {
    "collapsed": false,
    "pycharm": {
     "name": "#%%\n"
    }
   }
  }
 ],
 "metadata": {
  "kernelspec": {
   "name": "pycharm-301d774e",
   "language": "python",
   "display_name": "PyCharm (API_Mini_Project)"
  },
  "language_info": {
   "codemirror_mode": {
    "name": "ipython",
    "version": 2
   },
   "file_extension": ".py",
   "mimetype": "text/x-python",
   "name": "python",
   "nbconvert_exporter": "python",
   "pygments_lexer": "ipython2",
   "version": "2.7.6"
  }
 },
 "nbformat": 4,
 "nbformat_minor": 0
}